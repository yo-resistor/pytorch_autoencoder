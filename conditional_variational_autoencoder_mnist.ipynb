{
 "cells": [
  {
   "cell_type": "code",
   "execution_count": 1,
   "metadata": {},
   "outputs": [],
   "source": [
    "import torch; torch.manual_seed(0)\n",
    "import torch.nn as nn\n",
    "import torch.nn.functional as F\n",
    "import torch.utils\n",
    "import torch.distributions\n",
    "import torchvision\n",
    "import numpy as np\n",
    "import matplotlib.pyplot as plt; plt.rcParams['figure.dpi'] = 300"
   ]
  },
  {
   "cell_type": "code",
   "execution_count": 2,
   "metadata": {},
   "outputs": [],
   "source": [
    "device = 'cuda' if torch.cuda.is_available() else 'cpu'"
   ]
  },
  {
   "cell_type": "code",
   "execution_count": null,
   "metadata": {},
   "outputs": [],
   "source": [
    "class ConditionalVariationalEncoder(nn.Module):\n",
    "    def __init__(self, latent_dims, n_classes):\n",
    "        super(ConditionalVariationalEncoder, self).__init__()\n",
    "        self.linear1 = nn.Linear(784 + n_classes, 512)\n",
    "        self.linear2 = nn.Linear(512, 2)                        # mean vector\n",
    "        self.linear3 = nn.Linear(512, 2)                        # log variance vector\n",
    "        \n",
    "        self.N.loc = self.N.loc.to(device)              # mean of N distribution, move this tensor to gpu if possible\n",
    "        self.N.scale = self.N.scale.to(device)          # std of N distribution, move this tensor to gpu if possible\n",
    "        self.kl = 0                                     # initialize kl divergence loss term\n",
    "        self.n_clsses = n_classes                       # number of classes\n",
    "        \n",
    "    def forward(self, x, cond):\n",
    "        # Here cond is y: the label that we want to see as a result."
   ]
  }
 ],
 "metadata": {
  "kernelspec": {
   "display_name": "hfc",
   "language": "python",
   "name": "python3"
  },
  "language_info": {
   "codemirror_mode": {
    "name": "ipython",
    "version": 3
   },
   "file_extension": ".py",
   "mimetype": "text/x-python",
   "name": "python",
   "nbconvert_exporter": "python",
   "pygments_lexer": "ipython3",
   "version": "3.9.21"
  }
 },
 "nbformat": 4,
 "nbformat_minor": 2
}
